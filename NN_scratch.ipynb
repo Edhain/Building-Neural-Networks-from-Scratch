{
 "cells": [
  {
   "cell_type": "markdown",
   "metadata": {},
   "source": [
    "# Neural Networks from Scratch"
   ]
  },
  {
   "cell_type": "markdown",
   "metadata": {},
   "source": [
    "## Building Neurons"
   ]
  },
  {
   "cell_type": "markdown",
   "metadata": {},
   "source": [
    "### 3 Input Neuron"
   ]
  },
  {
   "cell_type": "code",
   "execution_count": 1,
   "metadata": {},
   "outputs": [
    {
     "name": "stdout",
     "output_type": "stream",
     "text": [
      "2.3\n"
     ]
    }
   ],
   "source": [
    "inputs = [1, 2, 3]\n",
    "weights = [0.2, 0.8, -0.5]\n",
    "bias = 2\n",
    "\n",
    "outputs = (inputs[0]*weights[0] + inputs[1]*weights[1] +inputs[2]*weights[2]) + bias\n",
    "print(outputs)"
   ]
  },
  {
   "cell_type": "markdown",
   "metadata": {},
   "source": [
    "### 4 Input Neuron"
   ]
  },
  {
   "cell_type": "code",
   "execution_count": 2,
   "metadata": {},
   "outputs": [
    {
     "name": "stdout",
     "output_type": "stream",
     "text": [
      "4.8\n"
     ]
    }
   ],
   "source": [
    "inputs = [1.0, 2.0, 3.0, 2.5]\n",
    "weights = [0.2, 0.8, -0.5, 1.0]\n",
    "bias = 2.0\n",
    "output = (inputs[0]*weights[0] +\n",
    " inputs[1]*weights[1] +\n",
    " inputs[2]*weights[2] +\n",
    " inputs[3]*weights[3] + bias)\n",
    "\n",
    "print(output)"
   ]
  },
  {
   "cell_type": "markdown",
   "metadata": {},
   "source": [
    "#### with loop"
   ]
  },
  {
   "cell_type": "code",
   "execution_count": 5,
   "metadata": {},
   "outputs": [
    {
     "name": "stdout",
     "output_type": "stream",
     "text": [
      "4.8\n"
     ]
    }
   ],
   "source": [
    "output = 0\n",
    "for i, w in zip(inputs, weights):\n",
    "    output += i*w \n",
    "output += bias\n",
    "print(output)"
   ]
  },
  {
   "cell_type": "markdown",
   "metadata": {},
   "source": [
    "## Layering Neurons"
   ]
  },
  {
   "cell_type": "code",
   "execution_count": 8,
   "metadata": {},
   "outputs": [
    {
     "name": "stdout",
     "output_type": "stream",
     "text": [
      "[4.8, 1.21, 2.385]\n"
     ]
    }
   ],
   "source": [
    "inputs = [1, 2, 3, 2.5]\n",
    "weights = [[0.2, 0.8, -0.5, 1],\n",
    "           [0.5, -0.91, 0.26, -0.5],\n",
    "           [-0.26, -0.27, 0.17, 0.87]]\n",
    "biases = [2,3,0.5]\n",
    "\n",
    "output = [\n",
    "    inputs[0]*weights[0][0] +\n",
    "    inputs[1]*weights[0][1] +\n",
    "    inputs[2]*weights[0][2] +\n",
    "    inputs[3]*weights[0][3] + biases[0],\n",
    "    inputs[0]*weights[1][0] +\n",
    "    inputs[1]*weights[1][1] +\n",
    "    inputs[2]*weights[1][2] +\n",
    "    inputs[3]*weights[1][3] + biases[1],\n",
    "    inputs[0]*weights[2][0] +\n",
    "    inputs[1]*weights[2][1] +\n",
    "    inputs[2]*weights[2][2] +\n",
    "    inputs[3]*weights[2][3] + biases[2]\n",
    "]\n",
    "print(output)"
   ]
  },
  {
   "cell_type": "markdown",
   "metadata": {},
   "source": [
    "#### with loop"
   ]
  },
  {
   "cell_type": "code",
   "execution_count": 9,
   "metadata": {},
   "outputs": [
    {
     "name": "stdout",
     "output_type": "stream",
     "text": [
      "[4.8, 1.21, 2.385]\n"
     ]
    }
   ],
   "source": [
    "layer_output = []\n",
    "for neuron_weights, bias in zip(weights, biases):\n",
    "    neuron_output = 0\n",
    "    for n_inputs, weights in zip(neuron_weights, inputs):\n",
    "        neuron_output += n_inputs*weights\n",
    "    neuron_output += bias\n",
    "    layer_output.append(neuron_output)\n",
    "print(layer_output)"
   ]
  },
  {
   "cell_type": "code",
   "execution_count": 1,
   "metadata": {},
   "outputs": [
    {
     "data": {
      "text/plain": [
       "4.8"
      ]
     },
     "execution_count": 1,
     "metadata": {},
     "output_type": "execute_result"
    }
   ],
   "source": [
    "import numpy as np\n",
    "\n",
    "inputs = [1.0, 2.0, 3.0, 2.5]\n",
    "weights = [0.2, 0.8, -0.5, 1.0]\n",
    "bias = 2.0\n",
    "\n",
    "input_arr = np.array(inputs)\n",
    "weight_arr = np.array(weights)\n",
    "\n",
    "output = np.dot(input_arr, weight_arr) + bias\n",
    "output"
   ]
  },
  {
   "cell_type": "code",
   "execution_count": 6,
   "metadata": {},
   "outputs": [
    {
     "data": {
      "text/plain": [
       "array([4.8  , 1.21 , 2.385])"
      ]
     },
     "execution_count": 6,
     "metadata": {},
     "output_type": "execute_result"
    }
   ],
   "source": [
    "inputs = [1.0, 2.0, 3.0, 2.5]\n",
    "weights = [[0.2, 0.8, -0.5, 1],\n",
    "           [0.5, -0.91, 0.26, -0.5],\n",
    "           [-0.26, -0.27, 0.17, 0.87]]\n",
    "biases = [2.0, 3.0, 0.5]\n",
    "\n",
    "# Convert lists to numpy arrays\n",
    "inputs_array = np.array(inputs)\n",
    "weights_array = np.array(weights).T\n",
    "biases_array = np.array(biases)\n",
    "\n",
    "# Calculate the dot product and add the biases\n",
    "output = np.dot(inputs_array, weights_array) + biases\n",
    "output"
   ]
  },
  {
   "cell_type": "code",
   "execution_count": 7,
   "metadata": {},
   "outputs": [
    {
     "name": "stdout",
     "output_type": "stream",
     "text": [
      "[-0.14562869  1.04781155  0.1716891 ]\n"
     ]
    },
    {
     "data": {
      "text/plain": [
       "(3,)"
      ]
     },
     "execution_count": 7,
     "metadata": {},
     "output_type": "execute_result"
    }
   ],
   "source": [
    "import numpy as np\n",
    "\n",
    "inputs = [[3,4,5,8],\n",
    "          [2,4,6,3],\n",
    "          [9,7,1,5]]\n",
    "\n",
    "weight1 = [[0.1,0.7,0.58,0.68],\n",
    "           [0.8,0.12,0.45,0.96],\n",
    "           [0.32,0.5,0.41,0.69]]\n",
    "\n",
    "bias1 = [2,3,1]\n",
    "\n",
    "weight2 = [[0.23,0.11,0.17],\n",
    "           [0.31,0.23,0.26],\n",
    "           [0.86,0.99,0.47]]\n",
    "\n",
    "bias2 = [7,1,3]\n",
    "\n",
    "weight3 = [[0.1, -0.14, 0.5],\n",
    "           [-0.5, 0.12, -0.33],\n",
    "           [-0.44, 0.73, -0.13],\n",
    "           [0.5, -0.91, 0.26],\n",
    "           [-0.26, -0.27, 0.17]]\n",
    "\n",
    "bias3 = [5,3,6,1,2]\n",
    "\n",
    "weight4 = [0.2, 0.8, -0.5, 1, 0.99]\n",
    "\n",
    "bias4 = [1]\n",
    "\n",
    "inputs_np = np.array(inputs)\n",
    "weight1_np = np.array(weight1)\n",
    "weight2_np = np.array(weight2)\n",
    "weight3_np = np.array(weight3)\n",
    "weight4_np = np.array(weight4)\n",
    "bias1_np = np.array(bias1)\n",
    "bias2_np = np.array(bias2)\n",
    "bias3_np = np.array(bias3)\n",
    "bias4_np = np.array(bias4)\n",
    "\n",
    "layer1 = np.dot(inputs_np, weight1_np.T) + bias1_np\n",
    "layer2 = np.dot(layer1, weight2_np.T) + bias2_np\n",
    "layer3 = np.dot(layer2, weight3_np.T) + bias3_np\n",
    "output = np.dot(layer3, weight4_np.T) + bias4_np\n",
    "print(output)\n",
    "output.shape"
   ]
  },
  {
   "cell_type": "code",
   "execution_count": null,
   "metadata": {},
   "outputs": [],
   "source": []
  }
 ],
 "metadata": {
  "kernelspec": {
   "display_name": "base",
   "language": "python",
   "name": "python3"
  },
  "language_info": {
   "codemirror_mode": {
    "name": "ipython",
    "version": 3
   },
   "file_extension": ".py",
   "mimetype": "text/x-python",
   "name": "python",
   "nbconvert_exporter": "python",
   "pygments_lexer": "ipython3",
   "version": "3.12.4"
  }
 },
 "nbformat": 4,
 "nbformat_minor": 2
}
